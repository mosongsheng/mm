{
 "cells": [
  {
   "cell_type": "code",
   "execution_count": 3,
   "metadata": {},
   "outputs": [
    {
     "data": {
      "text/plain": [
       "' \\n数值变量的描述统计\\n\\n统计指标：\\n\\n1. 中值\\n2. 平均值\\n3. 方差\\n\\n可视化：\\n\\n1. 散点图\\n\\n'"
      ]
     },
     "execution_count": 3,
     "metadata": {},
     "output_type": "execute_result"
    }
   ],
   "source": [
    "\"\"\" \n",
    "数值变量的描述统计\n",
    "\n",
    "统计指标：\n",
    "\n",
    "1. 中值\n",
    "2. 平均值\n",
    "3. 方差\n",
    "\n",
    "可视化：\n",
    "\n",
    "1. 散点图\n",
    "\n",
    "\"\"\""
   ]
  },
  {
   "cell_type": "code",
   "execution_count": 4,
   "metadata": {},
   "outputs": [
    {
     "ename": "PyreadstatError",
     "evalue": "File data/identity.sav does not exist!",
     "output_type": "error",
     "traceback": [
      "\u001b[1;31m---------------------------------------------------------------------------\u001b[0m",
      "\u001b[1;31mPyreadstatError\u001b[0m                           Traceback (most recent call last)",
      "\u001b[1;32md:\\桌面\\mm\\10-description3.ipynb 单元格 2\u001b[0m line \u001b[0;36m3\n\u001b[0;32m      <a href='vscode-notebook-cell:/d%3A/%E6%A1%8C%E9%9D%A2/mm/10-description3.ipynb#W1sZmlsZQ%3D%3D?line=0'>1</a>\u001b[0m \u001b[39mimport\u001b[39;00m \u001b[39mmytools\u001b[39;00m\n\u001b[0;32m      <a href='vscode-notebook-cell:/d%3A/%E6%A1%8C%E9%9D%A2/mm/10-description3.ipynb#W1sZmlsZQ%3D%3D?line=1'>2</a>\u001b[0m \u001b[39mfrom\u001b[39;00m \u001b[39mpyreadstat\u001b[39;00m \u001b[39mimport\u001b[39;00m pyreadstat\n\u001b[1;32m----> <a href='vscode-notebook-cell:/d%3A/%E6%A1%8C%E9%9D%A2/mm/10-description3.ipynb#W1sZmlsZQ%3D%3D?line=2'>3</a>\u001b[0m 国家认同原始数据, meta \u001b[39m=\u001b[39m mytools\u001b[39m.\u001b[39;49m读取SPSS数据(\u001b[39mR\u001b[39;49m\u001b[39m'\u001b[39;49m\u001b[39mdata/identity.sav\u001b[39;49m\u001b[39m'\u001b[39;49m)\n\u001b[0;32m      <a href='vscode-notebook-cell:/d%3A/%E6%A1%8C%E9%9D%A2/mm/10-description3.ipynb#W1sZmlsZQ%3D%3D?line=3'>4</a>\u001b[0m df, metadata \u001b[39m=\u001b[39m pyreadstat\u001b[39m.\u001b[39mread_sav(\u001b[39mr\u001b[39m\u001b[39m'\u001b[39m\u001b[39mdata/identity.sav\u001b[39m\u001b[39m'\u001b[39m,apply_value_formats\u001b[39m=\u001b[39m\u001b[39mFalse\u001b[39;00m,formats_as_ordered_category\u001b[39m=\u001b[39m\u001b[39mTrue\u001b[39;00m)\n",
      "File \u001b[1;32md:\\桌面\\mm\\mytools.py:14\u001b[0m, in \u001b[0;36m读取SPSS数据\u001b[1;34m(文件所在位置及名称)\u001b[0m\n\u001b[0;32m     12\u001b[0m \u001b[39mdef\u001b[39;00m \u001b[39m读取SPSS数据\u001b[39m(文件所在位置及名称):\n\u001b[0;32m     13\u001b[0m \u001b[39m    \u001b[39m\u001b[39m\"\"\" 读取SPSS文件，保留标签内容和有序变量顺序 \"\"\"\u001b[39;00m\n\u001b[1;32m---> 14\u001b[0m     result, metadata \u001b[39m=\u001b[39m pyreadstat\u001b[39m.\u001b[39;49mread_sav(\n\u001b[0;32m     15\u001b[0m         文件所在位置及名称, apply_value_formats\u001b[39m=\u001b[39;49m\u001b[39mTrue\u001b[39;49;00m, formats_as_ordered_category\u001b[39m=\u001b[39;49m\u001b[39mTrue\u001b[39;49;00m)\n\u001b[0;32m     16\u001b[0m     \u001b[39mreturn\u001b[39;00m result, metadata\n",
      "File \u001b[1;32mpyreadstat\\\\pyreadstat.pyx:388\u001b[0m, in \u001b[0;36mpyreadstat.pyreadstat.read_sav\u001b[1;34m()\u001b[0m\n",
      "File \u001b[1;32mpyreadstat\\\\_readstat_parser.pyx:1065\u001b[0m, in \u001b[0;36mpyreadstat._readstat_parser.run_conversion\u001b[1;34m()\u001b[0m\n",
      "\u001b[1;31mPyreadstatError\u001b[0m: File data/identity.sav does not exist!"
     ]
    }
   ],
   "source": [
    "import mytools\n",
    "from pyreadstat import pyreadstat\n",
    "国家认同原始数据, meta = mytools.读取SPSS数据(R'data/identity.sav')\n",
    "df, metadata = pyreadstat.read_sav(r'data/identity.sav',apply_value_formats=False,formats_as_ordered_category=True)\n"
   ]
  },
  {
   "cell_type": "code",
   "execution_count": null,
   "metadata": {},
   "outputs": [
    {
     "data": {
      "text/plain": [
       "0       挺好\n",
       "1       挺好\n",
       "2       挺好\n",
       "3      十分棒\n",
       "4       挺好\n",
       "      ... \n",
       "900     挺好\n",
       "901    十分棒\n",
       "902    一般般\n",
       "903     挺好\n",
       "904    一般般\n",
       "Name: 您觉得中国怎么样, Length: 905, dtype: category\n",
       "Categories (5, object): ['很差劲' < '较差' < '一般般' < '挺好' < '十分棒']"
      ]
     },
     "execution_count": 3,
     "metadata": {},
     "output_type": "execute_result"
    }
   ],
   "source": [
    "国家认同原始数据.您觉得中国怎么样"
   ]
  },
  {
   "cell_type": "code",
   "execution_count": null,
   "metadata": {},
   "outputs": [],
   "source": [
    "df['自豪感'] = df.您觉得中国怎么样 + df.您认为中国有多少值得自豪的地方"
   ]
  },
  {
   "cell_type": "code",
   "execution_count": null,
   "metadata": {},
   "outputs": [
    {
     "data": {
      "text/plain": [
       "8.0"
      ]
     },
     "execution_count": 5,
     "metadata": {},
     "output_type": "execute_result"
    }
   ],
   "source": [
    "df['自豪感'].median()"
   ]
  },
  {
   "cell_type": "code",
   "execution_count": null,
   "metadata": {},
   "outputs": [
    {
     "data": {
      "text/plain": [
       "7.6"
      ]
     },
     "execution_count": 6,
     "metadata": {},
     "output_type": "execute_result"
    }
   ],
   "source": [
    "df['自豪感'].mean()"
   ]
  },
  {
   "cell_type": "code",
   "execution_count": null,
   "metadata": {},
   "outputs": [
    {
     "data": {
      "text/plain": [
       "1.5581327856693659"
      ]
     },
     "execution_count": 7,
     "metadata": {},
     "output_type": "execute_result"
    }
   ],
   "source": [
    "df['自豪感'].std()"
   ]
  },
  {
   "cell_type": "code",
   "execution_count": null,
   "metadata": {},
   "outputs": [],
   "source": [
    "result = df['自豪感'].describe()"
   ]
  },
  {
   "cell_type": "code",
   "execution_count": null,
   "metadata": {},
   "outputs": [
    {
     "data": {
      "text/plain": [
       "7.6"
      ]
     },
     "execution_count": 9,
     "metadata": {},
     "output_type": "execute_result"
    }
   ],
   "source": [
    "result['mean']"
   ]
  },
  {
   "cell_type": "code",
   "execution_count": null,
   "metadata": {},
   "outputs": [
    {
     "data": {
      "text/plain": [
       "count    865.000000\n",
       "mean       7.600000\n",
       "std        1.558133\n",
       "min        2.000000\n",
       "25%        7.000000\n",
       "50%        8.000000\n",
       "75%        8.000000\n",
       "max       10.000000\n",
       "Name: 自豪感, dtype: float64"
      ]
     },
     "execution_count": 11,
     "metadata": {},
     "output_type": "execute_result"
    }
   ],
   "source": [
    "mytools.数值变量描述统计(df,'自豪感')"
   ]
  }
 ],
 "metadata": {
  "kernelspec": {
   "display_name": "Python 3",
   "language": "python",
   "name": "python3"
  },
  "language_info": {
   "codemirror_mode": {
    "name": "ipython",
    "version": 3
   },
   "file_extension": ".py",
   "mimetype": "text/x-python",
   "name": "python",
   "nbconvert_exporter": "python",
   "pygments_lexer": "ipython3",
   "version": "3.8.10"
  },
  "orig_nbformat": 4
 },
 "nbformat": 4,
 "nbformat_minor": 2
}
