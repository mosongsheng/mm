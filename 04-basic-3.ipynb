{
 "cells": [
  {
   "cell_type": "markdown",
   "metadata": {},
   "source": [
    "这是第一次的作业"
   ]
  },
  {
   "cell_type": "code",
   "execution_count": 1,
   "metadata": {},
   "outputs": [
    {
     "name": "stdout",
     "output_type": "stream",
     "text": [
      "这只是一个作业罢了\n"
     ]
    }
   ],
   "source": [
    "print('这只是一个作业罢了')\n"
   ]
  },
  {
   "cell_type": "code",
   "execution_count": 2,
   "metadata": {},
   "outputs": [
    {
     "data": {
      "text/plain": [
       "5"
      ]
     },
     "execution_count": 2,
     "metadata": {},
     "output_type": "execute_result"
    }
   ],
   "source": [
    "3+2"
   ]
  },
  {
   "cell_type": "markdown",
   "metadata": {},
   "source": [
    "解释说明：这是第二次的作业，内容如下"
   ]
  },
  {
   "cell_type": "code",
   "execution_count": 3,
   "metadata": {},
   "outputs": [
    {
     "name": "stdout",
     "output_type": "stream",
     "text": [
      "顶针\n"
     ]
    }
   ],
   "source": [
    "理塘='顶针'\n",
    "print (理塘)"
   ]
  },
  {
   "cell_type": "code",
   "execution_count": 4,
   "metadata": {},
   "outputs": [
    {
     "data": {
      "text/plain": [
       "float"
      ]
     },
     "execution_count": 4,
     "metadata": {},
     "output_type": "execute_result"
    }
   ],
   "source": [
    "type(1.5)"
   ]
  },
  {
   "cell_type": "code",
   "execution_count": 5,
   "metadata": {},
   "outputs": [],
   "source": [
    "学生仓库信息 = [  \n",
    "    {'姓名': '莫崧晟','仓库地址': 'https://github.com/mosongsheng/mm'}  \n",
    "]"
   ]
  },
  {
   "cell_type": "code",
   "execution_count": 6,
   "metadata": {},
   "outputs": [
    {
     "data": {
      "text/plain": [
       "set"
      ]
     },
     "execution_count": 6,
     "metadata": {},
     "output_type": "execute_result"
    }
   ],
   "source": [
    "type({123})"
   ]
  },
  {
   "cell_type": "code",
   "execution_count": 7,
   "metadata": {},
   "outputs": [
    {
     "name": "stdout",
     "output_type": "stream",
     "text": [
      "睡觉\n"
     ]
    }
   ],
   "source": [
    "天气='台风'\n",
    "if 天气 == '阴天':\n",
    "  print('骑车车')\n",
    "elif 天气=='台风':\n",
    "  print ('睡觉')\n",
    "else:\n",
    "  print('散步')"
   ]
  },
  {
   "cell_type": "code",
   "execution_count": 8,
   "metadata": {},
   "outputs": [],
   "source": [
    "# 函数\n",
    "第一次作业提交信息=[{'姓名': '许思勤', '学号': 'p221014505', 'Github仓库地址': 'https://github.com/qqliulian/liulianhao'}, {'姓名': '高娴', '学号': 'P221014587', 'Github仓库地址': 'https://github.com/gx530381/gxx'}, {'姓名': '周茂', '学号': 'P221014674', 'Github仓库地址': 'https://github.com/zzzzzmyou/1'}, {'姓名': '古颜', '学号': 'P221014641', 'Github仓库地址': 'https://github.com/luohuazhanbaiyi/111'}, {'姓名': '颜慈', '学号': 'P221014638', 'Github仓库地址': 'https://github.com/Yuxikkk/yyyc'}, {'姓名': '帕提古丽', '学号': 'P221014711', 'Github仓库地址': 'https://github.com/ptgl123/ptgl0000.git'}, {'姓名': '刘德鑫', '学号': 'P221014687', 'Github仓库地址': 'https://github.com/echo-2023chess/luxuriant.git'}, {'姓名': '阿依图提古丽·努尔买买提', '学号': 'P221016159', 'Github仓库地址': 'https://github.com/ayttgl/abc'}, {'姓名': '马晓琬', '学号': 'P221014487', 'Github仓库地址': 'https://github.com/abmxw/yori'}, {'姓名': '拉巴曲措', '学号': 'P221014494', 'Github仓库地址': 'https://github.com/rryy445566hh/tyujio9007'}, {'姓名': '秦文雅', '学号': 'P221014633', 'Github仓库地址': 'https://github.com/qinwenya/2017668014-qq.com'}, {'姓名': '   古丽妮尕尔', '学号': 'P221016162', 'Github仓库地址': 'https://github.com/3325517452/6841'}, {'姓名': '杨秀萱', '学号': 'P221014427', 'Github仓库地址': 'https://github.com/guirsnguise/wafagvg'}, {'姓名': '尼玛拉珍', '学号': 'P221014578', 'Github仓库地址': 'https://github.com/131708675/HOME'}, {'姓名': '李秋梅', '学号': 'P221014672', 'Github仓库地址': 'https://github.com/3053063553/pythonzuoye.git'}, {'姓名': '徐睿鲲', '学号': 'P221014520', 'Github仓库地址': 'https://github.com/huuggu/xuanxiu'}, {'姓名': '罗青云', '学号': 'P221014479', 'Github仓库地址': 'https://github.com/laoma12/home/commit/79ac562a2884e647ca06b2d71291cafb90672c8f'}, {'姓名': '徐艳丽', '学号': 'P221014516', 'Github仓库地址': 'https://github.com/Xuyanli-Hub/xuyanli'}, {'姓名': '林家宇·', '学号': 'P221014584', 'Github仓库地址': 'https://github.com/puishing/12345'}, {'姓名': '格珍', '学号': 'P221014664', 'Github仓库地址': 'https://github.com/defywgvucwhv/defywgvucwhv'}, {'姓名': '古颜', '学号': 'P221014641', 'Github仓库地址': 'https://github.com/luohuazhanbaiyi/hahaha'}, {'姓名': '周茂', '学号': 'P221014674', 'Github仓库地址': 'https://github.com/zzzzzmyou/zzzzzmyou1'}, {'姓名': '龙舒晴', '学号': 'P221014472', 'Github仓库地址': 'https://github.com/554108/lugetel'}, {'姓名': '张峰硕', '学号': 'p221014481', 'Github仓库地址': 'https://github.com/LitangGuailing/Litang.git'}, {'姓名': '单梅', '学号': 'P221014627', 'Github仓库地址': 'https://github.com/910318830/33'}, {'姓名': '李佳佳', '学号': 'P221014595', 'Github仓库地址': 'https://github.com/2012644838/homework'}, {'姓名': '拉巴曲措', '学号': 'P221014494', 'Github仓库地址': 'https://github.com/rryy445566hh/tyujio9007'}, {'姓名': '德丽巴尔·叶尔肯', '学号': 'P221016193', 'Github仓库地址': 'https://github.com/hulihutuao/dhomework'}, {'姓名': '蒙昱婕', '学号': 'P221014684', 'Github仓库地址': 'https://github.com/D5renge/mengyujie.git'}, {'姓名': '杜古尔加甫·莎仁图娅', '学号': 'P221014710', 'Github仓库地址': 'https://github.com/sharentuya/sharentuya.git'}, {'姓名': '张雨婷', '学号': 'P221014682', 'Github仓库地址': 'https://github.com/zythyszyq/hello.git'}, {'姓名': '李媛媛', '学号': 'P221014566', 'Github仓库地址': 'https://github.com/02Yyli/liy7uanyuan'}, {'姓名': '马君兰', '学号': 'P221014486', 'Github仓库地址': 'https://github.com/majunlan/aynnnnar'}, {'姓名': '姜雨廷', '学号': 'P221014653', 'Github仓库地址': 'https://github.com/Comlimen/Clementine'}, {'姓名': '李春阳', '学号': 'P221014716', 'Github仓库地址': 'https://github.com/edg7777777/edg7777777'}, {'姓名': '石文静', '学号': 'P221014712', 'Github仓库地址': 'https://github.com/wenjing999/wenjing'}, {'姓名': '古颜', '学号': 'P221014641', 'Github仓库地址': 'https://github.com/luohuazhanbaiyi/hahaha'}, {'姓名': '王倩', '学号': 'P221014474', 'Github仓库地址': 'https://github.com/lingjunji/statistic-2021'}, {'姓名': '韦亚琦', '学号': 'P221014597', 'Github仓库地址': 'https://github.com/weiyaqi1123/3289834600'}, {'姓名': '钟丽丽', '学号': 'P221014598', 'Github仓库地址': 'https://github.com/9zll/cat.git'}, {'姓名': '程超', '学号': 'P221014642', 'Github仓库地址': 'https://github.com/chengchao12/chao'}, {'姓名': '张骞月', '学号': 'P221014696', 'Github仓库地址': 'https://github.com/bbii00/bbii'}, {'姓名': '马小龙', '学号': 'p221014680', 'Github仓库地址': 'https://github.com/maxiao999/maxiao'}, {'姓名': '徐靖哲', '学号': 'P221014695', 'Github仓库地址': 'https://github.com/LiTangWang6/LiTang'}, {'姓名': '马心仪', '学号': 'P221014655', 'Github仓库地址': 'https://github.com/manshukesi/momo'}, {'姓名': '赵咪', '学号': 'P221014589', 'Github仓库地址': 'https://github.com/amor0613/7homework'}, {'姓名': '付竹', '学号': 'P221014482', 'Github仓库地址': 'https://github.com/yiyanglaurel/new-one'}, {'姓名': '莫崧晟', '学号': 'P221014683', 'Github仓库地址': 'https://github.com/mosongsheng/mm'}, {'姓名': '陈金玲', '学号': 'P221014689', 'Github仓库地址': 'https://github.com/Chenling2580/homework.git'}, {'姓名': '田旋', '学号': 'P221014650', 'Github仓库地址': 'https://github.com/2585615815/homework.git'}, {'姓名': '王佳陆', '学号': 'P221014700', 'Github仓库地址': 'https://gitee.com/lovewangyuan/lovewangyuan.git'}, {'姓名': '张穆紫', '学号': 'P221014693', 'Github仓库地址': 'https://github.com/1065953416/homework.git'}, {'姓名': '蓝苡榕', '学号': 'P221014511', 'Github仓库地址': 'https://github.com/lanyirongacyl/statistic'}, {'姓名': '李昱佳', '学号': 'P221014631', 'Github仓库地址': 'https://github.com/neodreamcity/nct2023'}, {'姓名': '德央', '学号': 'P221014580', 'Github仓库地址': 'https://github.com/638638/home'}, {'姓名': '付竹', '学号': 'P221014482', 'Github仓库地址': 'https://github.com/yiyanglaurel/new-one'}, {'姓名': '杜晓涵', '学号': 'P221014618', 'Github仓库地址': 'https://github.com/1223351431/AnnCLOUDS'}, {'姓名': '马心仪', '学号': 'P221014655', 'Github仓库地址': 'https://github.com/manshukesi/momo.git'}, {'姓名': '迪拉热·凯撒尔', '学号': 'P221014586', 'Github仓库地址': 'https://github.com/3031088667/supreme-broccoli'}, {'姓名': '李媛媛', '学号': 'P221014566', 'Github仓库地址': 'https://github.com/02Yyli/liy7uanyuan.git'}, {'姓名': '余静怡', '学号': 'P221014461', 'Github仓库地址': 'https://github.com/yujingyi11/kitty'}, {'姓名': '刘占森', '学号': 'P221014508', 'Github仓库地址': 'https://github.com/Anbnann/homework'}, {'姓名': '马君兰', '学号': 'P221014486', 'Github仓库地址': 'https://github.com/majunlan/aynnnar.git'}, {'姓名': '赵美亮', '学号': 'P221014502', 'Github仓库地址': ' https://github.com/zhaomeiliang/homework.git'}, {'姓名': '马晓琬', '学号': 'P221014487', 'Github仓库地址': 'https://github.com/abmxw/yori'}, {'姓名': '陈好', '学号': 'P221014490', 'Github仓库地址': 'https://github.com/vcvgv/vcvgv'}, {'姓名': '刘佳伊', '学号': 'P221014541', 'Github仓库地址': 'https://github.com/Katherine789/2023.8.30'}, {'姓名': '万栩恺', '学号': 'P221014515', 'Github仓库地址': 'https://github.com/522564718/van'}, {'姓名': '徐文佩', '学号': 'P221014478', 'Github仓库地址': 'https://github.com/nigudinzhen/nigudinzhen.git'}, {'姓名': '左日古丽白克', '学号': 'P221014539', 'Github仓库地址': 'https://github.com/zori0815/paaaa.git'}, {'姓名': '司诺', '学号': 'P220914024', 'Github仓库地址': 'https://github.com/OSBORRRN/SINOOO'}, {'姓名': '艾丽菲热·艾尔肯', '学号': 'P221014543', 'Github仓库地址': 'https://github.com/deeeeeeeeeer/alfira'}, {'姓名': '刘露', '学号': 'P221014513', 'Github仓库地址': 'https://github.com/Liuxiyayuan/liuchaoqian'}, {'姓名': '徐艳丽', '学号': 'P221014516', 'Github仓库地址': 'https://github.com/Xuyanli-Hub/xuyanli'}, {'姓名': '潘莹莹', '学号': 'P221014510', 'Github仓库地址': 'https://github.com/Penny39/panny.git'}, {'姓名': '张亚君', '学号': 'P221014446', 'Github仓库地址': 'https://github.com/zyj031214/zqlwx'}, {'姓名': '马枫羽', '学号': 'P221014542', 'Github仓库地址': 'https://github.com/MaFengyu/mfy'}, {'姓名': '许飞菲', '学号': 'P221014424', 'Github仓库地址': 'https://github.com/xffei/repos'}, {'姓名': '艾克丹', '学号': 'p221014452', 'Github仓库地址': 'https://github.com/akida2/AKIDA1'}, {'姓名': '张峰硕', '学号': 'P221014481', 'Github仓库地址': 'https://github.com/LitangGuailing/Litang.git'}, {'姓名': '罗青云', '学号': 'P221014479', 'Github仓库地址': 'https://github.com/laoma12/home'}, {'姓名': '余静怡', '学号': 'P221014461', 'Github仓库地址': 'https://github.com/yujingyi11/kitty'}, {'姓名': '罗朝婷', '学号': 'P221014430', 'Github仓库地址': 'https://github.com/zbnxhghg/zbnxhghg'}, {'姓名': '史竹然', '学号': 'P221014439', 'Github仓库地址': 'https://github.com/Lumen1015/Store-2023'}, {'姓名': '曾琳', '学号': 'P221014431', 'Github仓库地址': 'https://github.com/Lnyelnye/cautious-barnacle'}, {'姓名': '海雪', '学号': 'P221014419', 'Github仓库地址': 'https://github.com/shithiy/statistics-2023'}, {'姓名': '徐睿鲲', '学号': 'P221014520', 'Github仓库地址': 'https://github.com/huuggu/xuanxiu'}, {'姓名': '刘占森', '学号': 'P221014508', 'Github仓库地址': 'https://github.com/Anbnann/homework'}, {'姓名': '崔益广', '学号': 'P221014559', 'Github仓库地址': 'https://github.com/Anuibmlcu/cuizero'}, {'姓名': '吴娅蕾', '学号': 'P221014457', 'Github仓库地址': 'https://github.com/imAShiiiiiii/statistic-2023'}, {'姓名': '蓝苡榕', '学号': 'P221014511', 'Github仓库地址': 'https://github.com/lanyirongacyl/statistic'}]"
   ]
  },
  {
   "cell_type": "code",
   "execution_count": 9,
   "metadata": {},
   "outputs": [],
   "source": [
    "def 查找学生仓库地址(姓名,作业信息):\n",
    "  for i in 作业信息:\n",
    "   if i['姓名'] == 姓名:\n",
    "     return i ['Gibhub仓库地址']\n",
    "            \n"
   ]
  },
  {
   "cell_type": "code",
   "execution_count": 10,
   "metadata": {},
   "outputs": [],
   "source": [
    "def 查找学生仓库地址(姓名, 作业信息):  \n",
    "    for i in 作业信息:  \n",
    "        if i['姓名'] == 姓名:  \n",
    "            print(i.keys())\n",
    "            return i ['Github仓库地址']"
   ]
  },
  {
   "cell_type": "code",
   "execution_count": 11,
   "metadata": {},
   "outputs": [
    {
     "name": "stdout",
     "output_type": "stream",
     "text": [
      "dict_keys(['姓名', '学号', 'Github仓库地址'])\n"
     ]
    },
    {
     "data": {
      "text/plain": [
       "'https://github.com/mosongsheng/mm'"
      ]
     },
     "execution_count": 11,
     "metadata": {},
     "output_type": "execute_result"
    }
   ],
   "source": [
    "查找学生仓库地址('莫崧晟',第一次作业提交信息)"
   ]
  },
  {
   "cell_type": "code",
   "execution_count": 12,
   "metadata": {},
   "outputs": [
    {
     "name": "stdout",
     "output_type": "stream",
     "text": [
      "dict_keys(['姓名', '学号', 'Github仓库地址'])\n"
     ]
    },
    {
     "data": {
      "text/plain": [
       "'https://github.com/mosongsheng/mm'"
      ]
     },
     "execution_count": 12,
     "metadata": {},
     "output_type": "execute_result"
    }
   ],
   "source": [
    "查找学生仓库地址(姓名='莫崧晟',作业信息= 第一次作业提交信息)"
   ]
  },
  {
   "cell_type": "code",
   "execution_count": 13,
   "metadata": {},
   "outputs": [
    {
     "name": "stdout",
     "output_type": "stream",
     "text": [
      "https://github.com/mosongsheng/mm\n"
     ]
    }
   ],
   "source": [
    "for item in 第一次作业提交信息 : \n",
    "    if item[\"姓名\"] == \"莫崧晟\":\n",
    "        print(item[\"Github仓库地址\"])"
   ]
  },
  {
   "cell_type": "code",
   "execution_count": 14,
   "metadata": {},
   "outputs": [],
   "source": [
    "def get_github_url(student_id, student_list):\n",
    "    for student in student_list:\n",
    "        if student['学号'] == student_id:\n",
    "            return student['Github仓库地址']\n",
    "    return None"
   ]
  },
  {
   "cell_type": "code",
   "execution_count": 15,
   "metadata": {},
   "outputs": [
    {
     "data": {
      "text/plain": [
       "'https://github.com/mosongsheng/mm'"
      ]
     },
     "execution_count": 15,
     "metadata": {},
     "output_type": "execute_result"
    }
   ],
   "source": [
    "get_github_url('P221014683', 第一次作业提交信息)"
   ]
  },
  {
   "cell_type": "code",
   "execution_count": 16,
   "metadata": {},
   "outputs": [],
   "source": [
    "import requests  \n",
    "from datetime import datetime  \n",
    "  \n",
    "def get_push_count(repo_url):  \n",
    "    # 构造API请求URL  \n",
    "    api_url = repo_url.replace(\"https://github.com/\", \"https://api.github.com/repos/\") + \"/commits\"  \n",
    "    # 发送API请求  \n",
    "    try:  \n",
    "        response = requests.get(api_url, verify=False)  \n",
    "        # 解析API响应  \n",
    "        data = response.json()  \n",
    "    except requests.exceptions.RequestException as e:  \n",
    "        print(f\"请求失败: {e}\")  \n",
    "        return None, None  \n",
    "      \n",
    "    # 初始化推送次数和日期  \n",
    "    push_count = 0  \n",
    "    push_date = None  \n",
    "    # 遍历每个提交记录  \n",
    "    for commit in data:  \n",
    "        # 获取提交时间  \n",
    "        commit_time = datetime.strptime(commit['commit']['committer']['date'], '%Y-%m-%dT%H:%M:%SZ')  \n",
    "        # 判断是否为最近一次提交  \n",
    "        if push_date is None or commit_time > push_date:  \n",
    "            push_date = commit_time  \n",
    "            push_count = 1  \n",
    "        elif commit_time == push_date:  \n",
    "            push_count += 1  \n",
    "    # 返回推送次数和日期  \n",
    "    return push_count, push_date.strftime(\"%Y-%m-%d\") if push_date else None"
   ]
  },
  {
   "cell_type": "code",
   "execution_count": 17,
   "metadata": {},
   "outputs": [],
   "source": [
    "import requests\n",
    "from datetime import datetime\n",
    "\n",
    "def get_push_time(repo_url):\n",
    "    # 构造API请求URL\n",
    "    api_url = repo_url.replace(\"https://github.com/\", \"https://api.github.com/repos/\") + \"/commits\"\n",
    "    # 发送API请求\n",
    "    response = requests.get(api_url,verify=False)\n",
    "    # 解析API响应\n",
    "    data = response.json()\n",
    "    # 初始化推送时间列表\n",
    "    push_times = []\n",
    "    # 遍历每个提交记录\n",
    "    for commit in data:\n",
    "        # 获取提交时间\n",
    "        commit_time = datetime.strptime(commit['commit']['committer']['date'], '%Y-%m-%dT%H:%M:%SZ')\n",
    "        # 将推送时间添加到列表中\n",
    "        push_times.append(commit_time)\n",
    "    # 返回推送时间列表\n",
    "    return push_times"
   ]
  },
  {
   "cell_type": "code",
   "execution_count": 18,
   "metadata": {},
   "outputs": [
    {
     "name": "stderr",
     "output_type": "stream",
     "text": [
      "C:\\Users\\莫崧晟\\AppData\\Roaming\\Python\\Python38\\site-packages\\urllib3\\connectionpool.py:1095: InsecureRequestWarning: Unverified HTTPS request is being made to host 'api.github.com'. Adding certificate verification is strongly advised. See: https://urllib3.readthedocs.io/en/latest/advanced-usage.html#tls-warnings\n",
      "  warnings.warn(\n"
     ]
    },
    {
     "data": {
      "text/plain": [
       "(1, '2023-09-28')"
      ]
     },
     "execution_count": 18,
     "metadata": {},
     "output_type": "execute_result"
    }
   ],
   "source": [
    "get_push_count('https://github.com/mosongsheng/mm')"
   ]
  },
  {
   "cell_type": "code",
   "execution_count": 19,
   "metadata": {},
   "outputs": [
    {
     "name": "stderr",
     "output_type": "stream",
     "text": [
      "C:\\Users\\莫崧晟\\AppData\\Roaming\\Python\\Python38\\site-packages\\urllib3\\connectionpool.py:1095: InsecureRequestWarning: Unverified HTTPS request is being made to host 'api.github.com'. Adding certificate verification is strongly advised. See: https://urllib3.readthedocs.io/en/latest/advanced-usage.html#tls-warnings\n",
      "  warnings.warn(\n"
     ]
    },
    {
     "data": {
      "text/plain": [
       "[datetime.datetime(2023, 9, 28, 4, 18, 16),\n",
       " datetime.datetime(2023, 9, 24, 15, 25, 42),\n",
       " datetime.datetime(2023, 9, 24, 9, 45, 34),\n",
       " datetime.datetime(2023, 9, 24, 9, 38, 44),\n",
       " datetime.datetime(2023, 9, 21, 4, 8, 50),\n",
       " datetime.datetime(2023, 9, 21, 3, 45, 3),\n",
       " datetime.datetime(2023, 9, 20, 2, 22, 3),\n",
       " datetime.datetime(2023, 9, 17, 3, 41, 10),\n",
       " datetime.datetime(2023, 9, 14, 4, 8, 10),\n",
       " datetime.datetime(2023, 9, 14, 2, 49, 39),\n",
       " datetime.datetime(2023, 9, 13, 15, 3, 11),\n",
       " datetime.datetime(2023, 9, 13, 14, 54, 14),\n",
       " datetime.datetime(2023, 9, 13, 14, 20, 37),\n",
       " datetime.datetime(2023, 9, 10, 4, 47, 37),\n",
       " datetime.datetime(2023, 9, 7, 13, 40, 4),\n",
       " datetime.datetime(2023, 8, 31, 11, 1, 21),\n",
       " datetime.datetime(2023, 8, 31, 6, 12, 43)]"
      ]
     },
     "execution_count": 19,
     "metadata": {},
     "output_type": "execute_result"
    }
   ],
   "source": [
    "get_push_time('https://github.com/mosongsheng/mm')"
   ]
  },
  {
   "cell_type": "code",
   "execution_count": 20,
   "metadata": {},
   "outputs": [
    {
     "name": "stderr",
     "output_type": "stream",
     "text": [
      "C:\\Users\\莫崧晟\\AppData\\Roaming\\Python\\Python38\\site-packages\\urllib3\\connectionpool.py:1095: InsecureRequestWarning: Unverified HTTPS request is being made to host 'api.github.com'. Adding certificate verification is strongly advised. See: https://urllib3.readthedocs.io/en/latest/advanced-usage.html#tls-warnings\n",
      "  warnings.warn(\n"
     ]
    },
    {
     "data": {
      "text/plain": [
       "[datetime.datetime(2023, 9, 28, 4, 18, 16),\n",
       " datetime.datetime(2023, 9, 24, 15, 25, 42),\n",
       " datetime.datetime(2023, 9, 24, 9, 45, 34),\n",
       " datetime.datetime(2023, 9, 24, 9, 38, 44),\n",
       " datetime.datetime(2023, 9, 21, 4, 8, 50),\n",
       " datetime.datetime(2023, 9, 21, 3, 45, 3),\n",
       " datetime.datetime(2023, 9, 20, 2, 22, 3),\n",
       " datetime.datetime(2023, 9, 17, 3, 41, 10),\n",
       " datetime.datetime(2023, 9, 14, 4, 8, 10),\n",
       " datetime.datetime(2023, 9, 14, 2, 49, 39),\n",
       " datetime.datetime(2023, 9, 13, 15, 3, 11),\n",
       " datetime.datetime(2023, 9, 13, 14, 54, 14),\n",
       " datetime.datetime(2023, 9, 13, 14, 20, 37),\n",
       " datetime.datetime(2023, 9, 10, 4, 47, 37),\n",
       " datetime.datetime(2023, 9, 7, 13, 40, 4),\n",
       " datetime.datetime(2023, 8, 31, 11, 1, 21),\n",
       " datetime.datetime(2023, 8, 31, 6, 12, 43)]"
      ]
     },
     "execution_count": 20,
     "metadata": {},
     "output_type": "execute_result"
    }
   ],
   "source": [
    "get_push_time('https://github.com/mosongsheng/mm')"
   ]
  },
  {
   "cell_type": "markdown",
   "metadata": {},
   "source": [
    "以下是第三次的作业，内容如下："
   ]
  },
  {
   "cell_type": "code",
   "execution_count": 21,
   "metadata": {},
   "outputs": [
    {
     "data": {
      "text/plain": [
       "int"
      ]
     },
     "execution_count": 21,
     "metadata": {},
     "output_type": "execute_result"
    }
   ],
   "source": [
    "type(123)"
   ]
  },
  {
   "cell_type": "code",
   "execution_count": 22,
   "metadata": {},
   "outputs": [
    {
     "name": "stdout",
     "output_type": "stream",
     "text": [
      "git config --global user.name 'mosongsheng'\n",
      "git config --global user.email '3115153743@qq.com'\n",
      "git config --global http.sslverify false\n",
      "git add .\n",
      "git commit -m 自动推送\n",
      "git push\n",
      "\n"
     ]
    }
   ],
   "source": [
    "# 异常处理案例\n",
    "\n",
    "\n",
    "try:\n",
    "    f = open(R'push.sh', 'r',encoding='UTF-8')\n",
    "    print(f.read())\n",
    "    f.close()\n",
    "except IOError:\n",
    "    print('file not found')"
   ]
  },
  {
   "cell_type": "markdown",
   "metadata": {},
   "source": []
  },
  {
   "cell_type": "code",
   "execution_count": 23,
   "metadata": {},
   "outputs": [],
   "source": [
    "# csv格式\n",
    "import pandas as pd"
   ]
  },
  {
   "cell_type": "code",
   "execution_count": 24,
   "metadata": {},
   "outputs": [],
   "source": [
    "列名列表= ['姓名','学号','Github仓库地址']\n",
    "df1 = pd.read_csv(R'第一次作业提交统计.csv',encoding='GBK',usecols=列名列表)"
   ]
  },
  {
   "cell_type": "code",
   "execution_count": 25,
   "metadata": {},
   "outputs": [
    {
     "data": {
      "text/html": [
       "<div>\n",
       "<style scoped>\n",
       "    .dataframe tbody tr th:only-of-type {\n",
       "        vertical-align: middle;\n",
       "    }\n",
       "\n",
       "    .dataframe tbody tr th {\n",
       "        vertical-align: top;\n",
       "    }\n",
       "\n",
       "    .dataframe thead th {\n",
       "        text-align: right;\n",
       "    }\n",
       "</style>\n",
       "<table border=\"1\" class=\"dataframe\">\n",
       "  <thead>\n",
       "    <tr style=\"text-align: right;\">\n",
       "      <th></th>\n",
       "      <th>姓名</th>\n",
       "      <th>学号</th>\n",
       "      <th>Github仓库地址</th>\n",
       "    </tr>\n",
       "  </thead>\n",
       "  <tbody>\n",
       "    <tr>\n",
       "      <th>0</th>\n",
       "      <td>许思勤</td>\n",
       "      <td>p221014505</td>\n",
       "      <td>https://github.com/qqliulian/liulianhao</td>\n",
       "    </tr>\n",
       "    <tr>\n",
       "      <th>1</th>\n",
       "      <td>高娴</td>\n",
       "      <td>P221014587</td>\n",
       "      <td>https://github.com/gx530381/gxx</td>\n",
       "    </tr>\n",
       "    <tr>\n",
       "      <th>2</th>\n",
       "      <td>周茂</td>\n",
       "      <td>P221014674</td>\n",
       "      <td>https://github.com/zzzzzmyou/1</td>\n",
       "    </tr>\n",
       "    <tr>\n",
       "      <th>3</th>\n",
       "      <td>古颜</td>\n",
       "      <td>P221014641</td>\n",
       "      <td>https://github.com/luohuazhanbaiyi/111</td>\n",
       "    </tr>\n",
       "    <tr>\n",
       "      <th>4</th>\n",
       "      <td>颜慈</td>\n",
       "      <td>P221014638</td>\n",
       "      <td>https://github.com/Yuxikkk/yyyc</td>\n",
       "    </tr>\n",
       "    <tr>\n",
       "      <th>...</th>\n",
       "      <td>...</td>\n",
       "      <td>...</td>\n",
       "      <td>...</td>\n",
       "    </tr>\n",
       "    <tr>\n",
       "      <th>86</th>\n",
       "      <td>徐睿鲲</td>\n",
       "      <td>P221014520</td>\n",
       "      <td>https://github.com/huuggu/xuanxiu</td>\n",
       "    </tr>\n",
       "    <tr>\n",
       "      <th>87</th>\n",
       "      <td>刘占森</td>\n",
       "      <td>P221014508</td>\n",
       "      <td>https://github.com/Anbnann/homework</td>\n",
       "    </tr>\n",
       "    <tr>\n",
       "      <th>88</th>\n",
       "      <td>崔益广</td>\n",
       "      <td>P221014559</td>\n",
       "      <td>https://github.com/Anuibmlcu/cuizero</td>\n",
       "    </tr>\n",
       "    <tr>\n",
       "      <th>89</th>\n",
       "      <td>吴娅蕾</td>\n",
       "      <td>P221014457</td>\n",
       "      <td>https://github.com/imAShiiiiiii/statistic-2023</td>\n",
       "    </tr>\n",
       "    <tr>\n",
       "      <th>90</th>\n",
       "      <td>蓝苡榕</td>\n",
       "      <td>P221014511</td>\n",
       "      <td>https://github.com/lanyirongacyl/statistic</td>\n",
       "    </tr>\n",
       "  </tbody>\n",
       "</table>\n",
       "<p>91 rows × 3 columns</p>\n",
       "</div>"
      ],
      "text/plain": [
       "     姓名          学号                                      Github仓库地址\n",
       "0   许思勤  p221014505         https://github.com/qqliulian/liulianhao\n",
       "1    高娴  P221014587                 https://github.com/gx530381/gxx\n",
       "2    周茂  P221014674                  https://github.com/zzzzzmyou/1\n",
       "3    古颜  P221014641          https://github.com/luohuazhanbaiyi/111\n",
       "4    颜慈  P221014638                 https://github.com/Yuxikkk/yyyc\n",
       "..  ...         ...                                             ...\n",
       "86  徐睿鲲  P221014520               https://github.com/huuggu/xuanxiu\n",
       "87  刘占森  P221014508             https://github.com/Anbnann/homework\n",
       "88  崔益广  P221014559            https://github.com/Anuibmlcu/cuizero\n",
       "89  吴娅蕾  P221014457  https://github.com/imAShiiiiiii/statistic-2023\n",
       "90  蓝苡榕  P221014511      https://github.com/lanyirongacyl/statistic\n",
       "\n",
       "[91 rows x 3 columns]"
      ]
     },
     "execution_count": 25,
     "metadata": {},
     "output_type": "execute_result"
    }
   ],
   "source": [
    "pd.read_csv(R'第一次作业提交统计.csv',encoding='GBK',usecols=列名列表)"
   ]
  },
  {
   "cell_type": "code",
   "execution_count": 26,
   "metadata": {},
   "outputs": [],
   "source": [
    "df1.to_csv('output/csv保存练习.csv',index = False)"
   ]
  },
  {
   "cell_type": "code",
   "execution_count": 27,
   "metadata": {},
   "outputs": [],
   "source": [
    "#任务2：xls格式数据的读写查询\n",
    "df2 = pd.read_excel(R'000_《统计与数据分析》课程第一次作业收集_提交统计.xlsx',\n",
    "sheet_name=\"提交清单\",usecols=['姓名','学号','Github仓库地址'])"
   ]
  },
  {
   "cell_type": "code",
   "execution_count": 28,
   "metadata": {},
   "outputs": [],
   "source": [
    "df2.to_excel(R'output/excel保存练习.xlsx',index = False)"
   ]
  },
  {
   "cell_type": "code",
   "execution_count": 29,
   "metadata": {},
   "outputs": [],
   "source": [
    "#任务3：sav格式数据的读写查询\n",
    "df3=pd.read_spss(R'identity.sav')"
   ]
  },
  {
   "cell_type": "code",
   "execution_count": 30,
   "metadata": {},
   "outputs": [],
   "source": [
    "import pyreadstat"
   ]
  },
  {
   "cell_type": "code",
   "execution_count": 31,
   "metadata": {},
   "outputs": [],
   "source": [
    "d=pyreadstat.read_sav(R'identity.sav',apply_value_formats= True)[0]"
   ]
  },
  {
   "cell_type": "code",
   "execution_count": 32,
   "metadata": {},
   "outputs": [],
   "source": [
    "#任务4：pdf格式数据的读写查询\n",
    "df3=pd.read_spss(R'identity.sav')"
   ]
  },
  {
   "cell_type": "code",
   "execution_count": 33,
   "metadata": {},
   "outputs": [
    {
     "data": {
      "text/plain": [
       "[<Page:1>,\n",
       " <Page:2>,\n",
       " <Page:3>,\n",
       " <Page:4>,\n",
       " <Page:5>,\n",
       " <Page:6>,\n",
       " <Page:7>,\n",
       " <Page:8>,\n",
       " <Page:9>,\n",
       " <Page:10>,\n",
       " <Page:11>,\n",
       " <Page:12>,\n",
       " <Page:13>,\n",
       " <Page:14>,\n",
       " <Page:15>,\n",
       " <Page:16>,\n",
       " <Page:17>,\n",
       " <Page:18>,\n",
       " <Page:19>,\n",
       " <Page:20>,\n",
       " <Page:21>,\n",
       " <Page:22>,\n",
       " <Page:23>,\n",
       " <Page:24>,\n",
       " <Page:25>,\n",
       " <Page:26>,\n",
       " <Page:27>,\n",
       " <Page:28>,\n",
       " <Page:29>,\n",
       " <Page:30>,\n",
       " <Page:31>,\n",
       " <Page:32>,\n",
       " <Page:33>,\n",
       " <Page:34>,\n",
       " <Page:35>,\n",
       " <Page:36>,\n",
       " <Page:37>,\n",
       " <Page:38>,\n",
       " <Page:39>,\n",
       " <Page:40>,\n",
       " <Page:41>,\n",
       " <Page:42>,\n",
       " <Page:43>,\n",
       " <Page:44>,\n",
       " <Page:45>,\n",
       " <Page:46>,\n",
       " <Page:47>,\n",
       " <Page:48>,\n",
       " <Page:49>,\n",
       " <Page:50>,\n",
       " <Page:51>,\n",
       " <Page:52>,\n",
       " <Page:53>,\n",
       " <Page:54>,\n",
       " <Page:55>,\n",
       " <Page:56>,\n",
       " <Page:57>,\n",
       " <Page:58>,\n",
       " <Page:59>,\n",
       " <Page:60>,\n",
       " <Page:61>,\n",
       " <Page:62>,\n",
       " <Page:63>,\n",
       " <Page:64>,\n",
       " <Page:65>,\n",
       " <Page:66>,\n",
       " <Page:67>,\n",
       " <Page:68>,\n",
       " <Page:69>,\n",
       " <Page:70>,\n",
       " <Page:71>,\n",
       " <Page:72>,\n",
       " <Page:73>,\n",
       " <Page:74>,\n",
       " <Page:75>,\n",
       " <Page:76>,\n",
       " <Page:77>,\n",
       " <Page:78>,\n",
       " <Page:79>,\n",
       " <Page:80>,\n",
       " <Page:81>,\n",
       " <Page:82>,\n",
       " <Page:83>,\n",
       " <Page:84>,\n",
       " <Page:85>,\n",
       " <Page:86>,\n",
       " <Page:87>,\n",
       " <Page:88>,\n",
       " <Page:89>,\n",
       " <Page:90>,\n",
       " <Page:91>,\n",
       " <Page:92>]"
      ]
     },
     "execution_count": 33,
     "metadata": {},
     "output_type": "execute_result"
    }
   ],
   "source": [
    "\n",
    "import pdfplumber\n",
    "pdf=pdfplumber.open(R'高考核心词汇1278.pdf')\n",
    "pdf.pages\n",
    "\n"
   ]
  },
  {
   "cell_type": "code",
   "execution_count": 34,
   "metadata": {},
   "outputs": [
    {
     "data": {
      "text/plain": [
       "0"
      ]
     },
     "execution_count": 34,
     "metadata": {},
     "output_type": "execute_result"
    }
   ],
   "source": [
    "len(pdf.pages)\n",
    "len([])"
   ]
  },
  {
   "cell_type": "code",
   "execution_count": 35,
   "metadata": {},
   "outputs": [],
   "source": [
    "table=[]\n",
    "#从第一页循环到最后一页\n",
    "for i in range(len(pdf.pages)-1):\n",
    "    pages=pdf.pages[i+1]\n",
    "    table.extend(pages.extract_table())"
   ]
  },
  {
   "cell_type": "code",
   "execution_count": 36,
   "metadata": {},
   "outputs": [],
   "source": [
    "pdf_df=pd.DataFrame(table[2:])"
   ]
  },
  {
   "cell_type": "code",
   "execution_count": 37,
   "metadata": {},
   "outputs": [],
   "source": [
    "pdf_df.to_excel('output/pdf表格数据读写练习结果.xlsx',index=False)"
   ]
  },
  {
   "cell_type": "code",
   "execution_count": 38,
   "metadata": {},
   "outputs": [
    {
     "name": "stdout",
     "output_type": "stream",
     "text": [
      "0\n",
      "1\n",
      "2\n",
      "3\n",
      "4\n",
      "5\n",
      "6\n",
      "7\n",
      "8\n",
      "9\n",
      "10\n",
      "11\n",
      "12\n",
      "13\n",
      "14\n",
      "15\n",
      "16\n",
      "17\n",
      "18\n",
      "19\n",
      "20\n",
      "21\n",
      "22\n",
      "23\n",
      "24\n",
      "25\n",
      "26\n",
      "27\n",
      "28\n",
      "29\n",
      "30\n",
      "31\n",
      "32\n",
      "33\n",
      "34\n",
      "35\n",
      "36\n",
      "37\n",
      "38\n",
      "39\n",
      "40\n",
      "41\n",
      "42\n",
      "43\n",
      "44\n",
      "45\n",
      "46\n",
      "47\n",
      "48\n",
      "49\n",
      "50\n",
      "51\n",
      "52\n",
      "53\n",
      "54\n",
      "55\n",
      "56\n",
      "57\n",
      "58\n",
      "59\n",
      "60\n",
      "61\n",
      "62\n",
      "63\n",
      "64\n",
      "65\n",
      "66\n",
      "67\n",
      "68\n",
      "69\n",
      "70\n",
      "71\n",
      "72\n",
      "73\n",
      "74\n",
      "75\n",
      "76\n",
      "77\n",
      "78\n",
      "79\n",
      "80\n",
      "81\n",
      "82\n",
      "83\n",
      "84\n",
      "85\n",
      "86\n",
      "87\n",
      "88\n",
      "89\n",
      "90\n"
     ]
    }
   ],
   "source": [
    "for i in range(len(pdf.pages)-1):\n",
    "    print(i)"
   ]
  },
  {
   "cell_type": "code",
   "execution_count": 39,
   "metadata": {},
   "outputs": [],
   "source": [
    "import pandas as pd  \n",
    "  \n",
    "贵州茅台原始数据 = pd.read_csv('600519.csv')"
   ]
  },
  {
   "cell_type": "code",
   "execution_count": 40,
   "metadata": {},
   "outputs": [
    {
     "data": {
      "text/plain": [
       "<pandas.core.indexing._LocIndexer at 0x28b9456f220>"
      ]
     },
     "execution_count": 40,
     "metadata": {},
     "output_type": "execute_result"
    }
   ],
   "source": [
    "#按行查询数据\n",
    "贵州茅台原始数据.loc(0)"
   ]
  },
  {
   "cell_type": "code",
   "execution_count": 41,
   "metadata": {},
   "outputs": [],
   "source": [
    "贵州茅台=贵州茅台原始数据.set_index('day')"
   ]
  },
  {
   "cell_type": "code",
   "execution_count": 42,
   "metadata": {},
   "outputs": [
    {
     "data": {
      "text/plain": [
       "STOCK_CODE    6.005191e+06\n",
       "open          3.451000e+01\n",
       "close         3.555000e+01\n",
       "maximum       3.778000e+01\n",
       "minimum       3.285000e+01\n",
       "volume        4.063180e+05\n",
       "TURNOVER      1.410347e+09\n",
       "Name: 2001-08-27, dtype: float64"
      ]
     },
     "execution_count": 42,
     "metadata": {},
     "output_type": "execute_result"
    }
   ],
   "source": [
    "# loc索引器\n",
    "贵州茅台.loc['2001-08-27']"
   ]
  },
  {
   "cell_type": "code",
   "execution_count": 43,
   "metadata": {},
   "outputs": [
    {
     "data": {
      "text/plain": [
       "open     34.51\n",
       "close    35.55\n",
       "Name: 2001-08-27, dtype: float64"
      ]
     },
     "execution_count": 43,
     "metadata": {},
     "output_type": "execute_result"
    }
   ],
   "source": [
    "贵州茅台.loc['2001-08-27',['open','close']]"
   ]
  },
  {
   "cell_type": "code",
   "execution_count": 44,
   "metadata": {},
   "outputs": [
    {
     "data": {
      "text/plain": [
       "open     37.00\n",
       "close    36.58\n",
       "Name: 2001-10-08, dtype: float64"
      ]
     },
     "execution_count": 44,
     "metadata": {},
     "output_type": "execute_result"
    }
   ],
   "source": [
    "贵州茅台.loc['2001-10-08',['open','close']]"
   ]
  },
  {
   "cell_type": "markdown",
   "metadata": {},
   "source": [
    "测试内容\n",
    "#结构化思维思维方式\n",
    "查询：黄金圈法则、道法术器、少有人走的路\\scqa模型\n",
    "Anki\n"
   ]
  },
  {
   "cell_type": "code",
   "execution_count": null,
   "metadata": {},
   "outputs": [],
   "source": []
  },
  {
   "cell_type": "code",
   "execution_count": null,
   "metadata": {},
   "outputs": [],
   "source": []
  },
  {
   "cell_type": "code",
   "execution_count": null,
   "metadata": {},
   "outputs": [],
   "source": []
  },
  {
   "cell_type": "code",
   "execution_count": null,
   "metadata": {},
   "outputs": [],
   "source": []
  },
  {
   "cell_type": "code",
   "execution_count": null,
   "metadata": {},
   "outputs": [],
   "source": []
  }
 ],
 "metadata": {
  "kernelspec": {
   "display_name": "Python 3",
   "language": "python",
   "name": "python3"
  },
  "language_info": {
   "codemirror_mode": {
    "name": "ipython",
    "version": 3
   },
   "file_extension": ".py",
   "mimetype": "text/x-python",
   "name": "python",
   "nbconvert_exporter": "python",
   "pygments_lexer": "ipython3",
   "version": "3.8.10"
  },
  "orig_nbformat": 4
 },
 "nbformat": 4,
 "nbformat_minor": 2
}
