{
 "cells": [
  {
   "cell_type": "markdown",
   "metadata": {},
   "source": [
    "这是第一次的作业"
   ]
  },
  {
   "cell_type": "code",
   "execution_count": 41,
   "metadata": {},
   "outputs": [
    {
     "name": "stdout",
     "output_type": "stream",
     "text": [
      "这只是一个作业罢了\n"
     ]
    }
   ],
   "source": [
    "print('这只是一个作业罢了')\n"
   ]
  },
  {
   "cell_type": "code",
   "execution_count": 42,
   "metadata": {},
   "outputs": [
    {
     "data": {
      "text/plain": [
       "5"
      ]
     },
     "execution_count": 42,
     "metadata": {},
     "output_type": "execute_result"
    }
   ],
   "source": [
    "3+2"
   ]
  },
  {
   "cell_type": "markdown",
   "metadata": {},
   "source": [
    "这是第二次的作业，内容有点多懒得复制粘贴打字了"
   ]
  },
  {
   "cell_type": "code",
   "execution_count": 43,
   "metadata": {},
   "outputs": [
    {
     "name": "stdout",
     "output_type": "stream",
     "text": [
      "顶针\n"
     ]
    }
   ],
   "source": [
    "理塘='顶针'\n",
    "print (理塘)"
   ]
  },
  {
   "cell_type": "code",
   "execution_count": 44,
   "metadata": {},
   "outputs": [
    {
     "data": {
      "text/plain": [
       "float"
      ]
     },
     "execution_count": 44,
     "metadata": {},
     "output_type": "execute_result"
    }
   ],
   "source": [
    "type(1.5)"
   ]
  },
  {
   "cell_type": "code",
   "execution_count": 45,
   "metadata": {},
   "outputs": [],
   "source": [
    "学生仓库信息 = [  \n",
    "    {'姓名': '莫崧晟','仓库地址': 'https://github.com/mosongsheng/mm'}  \n",
    "]"
   ]
  },
  {
   "cell_type": "code",
   "execution_count": 46,
   "metadata": {},
   "outputs": [
    {
     "data": {
      "text/plain": [
       "set"
      ]
     },
     "execution_count": 46,
     "metadata": {},
     "output_type": "execute_result"
    }
   ],
   "source": [
    "type({123})"
   ]
  },
  {
   "cell_type": "code",
   "execution_count": 47,
   "metadata": {},
   "outputs": [
    {
     "name": "stdout",
     "output_type": "stream",
     "text": [
      "睡觉\n"
     ]
    }
   ],
   "source": [
    "天气='台风'\n",
    "if 天气 == '阴天':\n",
    "  print('骑车车')\n",
    "elif 天气=='台风':\n",
    "  print ('睡觉')\n",
    "else:\n",
    "  print('散步')"
   ]
  },
  {
   "cell_type": "code",
   "execution_count": 48,
   "metadata": {},
   "outputs": [],
   "source": [
    "# 函数\n",
    "第一次作业提交信息=[{'姓名': '许思勤', '学号': 'p221014505', 'Github仓库地址': 'https://github.com/qqliulian/liulianhao'}, {'姓名': '高娴', '学号': 'P221014587', 'Github仓库地址': 'https://github.com/gx530381/gxx'}, {'姓名': '周茂', '学号': 'P221014674', 'Github仓库地址': 'https://github.com/zzzzzmyou/1'}, {'姓名': '古颜', '学号': 'P221014641', 'Github仓库地址': 'https://github.com/luohuazhanbaiyi/111'}, {'姓名': '颜慈', '学号': 'P221014638', 'Github仓库地址': 'https://github.com/Yuxikkk/yyyc'}, {'姓名': '帕提古丽', '学号': 'P221014711', 'Github仓库地址': 'https://github.com/ptgl123/ptgl0000.git'}, {'姓名': '刘德鑫', '学号': 'P221014687', 'Github仓库地址': 'https://github.com/echo-2023chess/luxuriant.git'}, {'姓名': '阿依图提古丽·努尔买买提', '学号': 'P221016159', 'Github仓库地址': 'https://github.com/ayttgl/abc'}, {'姓名': '马晓琬', '学号': 'P221014487', 'Github仓库地址': 'https://github.com/abmxw/yori'}, {'姓名': '拉巴曲措', '学号': 'P221014494', 'Github仓库地址': 'https://github.com/rryy445566hh/tyujio9007'}, {'姓名': '秦文雅', '学号': 'P221014633', 'Github仓库地址': 'https://github.com/qinwenya/2017668014-qq.com'}, {'姓名': '   古丽妮尕尔', '学号': 'P221016162', 'Github仓库地址': 'https://github.com/3325517452/6841'}, {'姓名': '杨秀萱', '学号': 'P221014427', 'Github仓库地址': 'https://github.com/guirsnguise/wafagvg'}, {'姓名': '尼玛拉珍', '学号': 'P221014578', 'Github仓库地址': 'https://github.com/131708675/HOME'}, {'姓名': '李秋梅', '学号': 'P221014672', 'Github仓库地址': 'https://github.com/3053063553/pythonzuoye.git'}, {'姓名': '徐睿鲲', '学号': 'P221014520', 'Github仓库地址': 'https://github.com/huuggu/xuanxiu'}, {'姓名': '罗青云', '学号': 'P221014479', 'Github仓库地址': 'https://github.com/laoma12/home/commit/79ac562a2884e647ca06b2d71291cafb90672c8f'}, {'姓名': '徐艳丽', '学号': 'P221014516', 'Github仓库地址': 'https://github.com/Xuyanli-Hub/xuyanli'}, {'姓名': '林家宇·', '学号': 'P221014584', 'Github仓库地址': 'https://github.com/puishing/12345'}, {'姓名': '格珍', '学号': 'P221014664', 'Github仓库地址': 'https://github.com/defywgvucwhv/defywgvucwhv'}, {'姓名': '古颜', '学号': 'P221014641', 'Github仓库地址': 'https://github.com/luohuazhanbaiyi/hahaha'}, {'姓名': '周茂', '学号': 'P221014674', 'Github仓库地址': 'https://github.com/zzzzzmyou/zzzzzmyou1'}, {'姓名': '龙舒晴', '学号': 'P221014472', 'Github仓库地址': 'https://github.com/554108/lugetel'}, {'姓名': '张峰硕', '学号': 'p221014481', 'Github仓库地址': 'https://github.com/LitangGuailing/Litang.git'}, {'姓名': '单梅', '学号': 'P221014627', 'Github仓库地址': 'https://github.com/910318830/33'}, {'姓名': '李佳佳', '学号': 'P221014595', 'Github仓库地址': 'https://github.com/2012644838/homework'}, {'姓名': '拉巴曲措', '学号': 'P221014494', 'Github仓库地址': 'https://github.com/rryy445566hh/tyujio9007'}, {'姓名': '德丽巴尔·叶尔肯', '学号': 'P221016193', 'Github仓库地址': 'https://github.com/hulihutuao/dhomework'}, {'姓名': '蒙昱婕', '学号': 'P221014684', 'Github仓库地址': 'https://github.com/D5renge/mengyujie.git'}, {'姓名': '杜古尔加甫·莎仁图娅', '学号': 'P221014710', 'Github仓库地址': 'https://github.com/sharentuya/sharentuya.git'}, {'姓名': '张雨婷', '学号': 'P221014682', 'Github仓库地址': 'https://github.com/zythyszyq/hello.git'}, {'姓名': '李媛媛', '学号': 'P221014566', 'Github仓库地址': 'https://github.com/02Yyli/liy7uanyuan'}, {'姓名': '马君兰', '学号': 'P221014486', 'Github仓库地址': 'https://github.com/majunlan/aynnnnar'}, {'姓名': '姜雨廷', '学号': 'P221014653', 'Github仓库地址': 'https://github.com/Comlimen/Clementine'}, {'姓名': '李春阳', '学号': 'P221014716', 'Github仓库地址': 'https://github.com/edg7777777/edg7777777'}, {'姓名': '石文静', '学号': 'P221014712', 'Github仓库地址': 'https://github.com/wenjing999/wenjing'}, {'姓名': '古颜', '学号': 'P221014641', 'Github仓库地址': 'https://github.com/luohuazhanbaiyi/hahaha'}, {'姓名': '王倩', '学号': 'P221014474', 'Github仓库地址': 'https://github.com/lingjunji/statistic-2021'}, {'姓名': '韦亚琦', '学号': 'P221014597', 'Github仓库地址': 'https://github.com/weiyaqi1123/3289834600'}, {'姓名': '钟丽丽', '学号': 'P221014598', 'Github仓库地址': 'https://github.com/9zll/cat.git'}, {'姓名': '程超', '学号': 'P221014642', 'Github仓库地址': 'https://github.com/chengchao12/chao'}, {'姓名': '张骞月', '学号': 'P221014696', 'Github仓库地址': 'https://github.com/bbii00/bbii'}, {'姓名': '马小龙', '学号': 'p221014680', 'Github仓库地址': 'https://github.com/maxiao999/maxiao'}, {'姓名': '徐靖哲', '学号': 'P221014695', 'Github仓库地址': 'https://github.com/LiTangWang6/LiTang'}, {'姓名': '马心仪', '学号': 'P221014655', 'Github仓库地址': 'https://github.com/manshukesi/momo'}, {'姓名': '赵咪', '学号': 'P221014589', 'Github仓库地址': 'https://github.com/amor0613/7homework'}, {'姓名': '付竹', '学号': 'P221014482', 'Github仓库地址': 'https://github.com/yiyanglaurel/new-one'}, {'姓名': '莫崧晟', '学号': 'P221014683', 'Github仓库地址': 'https://github.com/mosongsheng/mm'}, {'姓名': '陈金玲', '学号': 'P221014689', 'Github仓库地址': 'https://github.com/Chenling2580/homework.git'}, {'姓名': '田旋', '学号': 'P221014650', 'Github仓库地址': 'https://github.com/2585615815/homework.git'}, {'姓名': '王佳陆', '学号': 'P221014700', 'Github仓库地址': 'https://gitee.com/lovewangyuan/lovewangyuan.git'}, {'姓名': '张穆紫', '学号': 'P221014693', 'Github仓库地址': 'https://github.com/1065953416/homework.git'}, {'姓名': '蓝苡榕', '学号': 'P221014511', 'Github仓库地址': 'https://github.com/lanyirongacyl/statistic'}, {'姓名': '李昱佳', '学号': 'P221014631', 'Github仓库地址': 'https://github.com/neodreamcity/nct2023'}, {'姓名': '德央', '学号': 'P221014580', 'Github仓库地址': 'https://github.com/638638/home'}, {'姓名': '付竹', '学号': 'P221014482', 'Github仓库地址': 'https://github.com/yiyanglaurel/new-one'}, {'姓名': '杜晓涵', '学号': 'P221014618', 'Github仓库地址': 'https://github.com/1223351431/AnnCLOUDS'}, {'姓名': '马心仪', '学号': 'P221014655', 'Github仓库地址': 'https://github.com/manshukesi/momo.git'}, {'姓名': '迪拉热·凯撒尔', '学号': 'P221014586', 'Github仓库地址': 'https://github.com/3031088667/supreme-broccoli'}, {'姓名': '李媛媛', '学号': 'P221014566', 'Github仓库地址': 'https://github.com/02Yyli/liy7uanyuan.git'}, {'姓名': '余静怡', '学号': 'P221014461', 'Github仓库地址': 'https://github.com/yujingyi11/kitty'}, {'姓名': '刘占森', '学号': 'P221014508', 'Github仓库地址': 'https://github.com/Anbnann/homework'}, {'姓名': '马君兰', '学号': 'P221014486', 'Github仓库地址': 'https://github.com/majunlan/aynnnar.git'}, {'姓名': '赵美亮', '学号': 'P221014502', 'Github仓库地址': ' https://github.com/zhaomeiliang/homework.git'}, {'姓名': '马晓琬', '学号': 'P221014487', 'Github仓库地址': 'https://github.com/abmxw/yori'}, {'姓名': '陈好', '学号': 'P221014490', 'Github仓库地址': 'https://github.com/vcvgv/vcvgv'}, {'姓名': '刘佳伊', '学号': 'P221014541', 'Github仓库地址': 'https://github.com/Katherine789/2023.8.30'}, {'姓名': '万栩恺', '学号': 'P221014515', 'Github仓库地址': 'https://github.com/522564718/van'}, {'姓名': '徐文佩', '学号': 'P221014478', 'Github仓库地址': 'https://github.com/nigudinzhen/nigudinzhen.git'}, {'姓名': '左日古丽白克', '学号': 'P221014539', 'Github仓库地址': 'https://github.com/zori0815/paaaa.git'}, {'姓名': '司诺', '学号': 'P220914024', 'Github仓库地址': 'https://github.com/OSBORRRN/SINOOO'}, {'姓名': '艾丽菲热·艾尔肯', '学号': 'P221014543', 'Github仓库地址': 'https://github.com/deeeeeeeeeer/alfira'}, {'姓名': '刘露', '学号': 'P221014513', 'Github仓库地址': 'https://github.com/Liuxiyayuan/liuchaoqian'}, {'姓名': '徐艳丽', '学号': 'P221014516', 'Github仓库地址': 'https://github.com/Xuyanli-Hub/xuyanli'}, {'姓名': '潘莹莹', '学号': 'P221014510', 'Github仓库地址': 'https://github.com/Penny39/panny.git'}, {'姓名': '张亚君', '学号': 'P221014446', 'Github仓库地址': 'https://github.com/zyj031214/zqlwx'}, {'姓名': '马枫羽', '学号': 'P221014542', 'Github仓库地址': 'https://github.com/MaFengyu/mfy'}, {'姓名': '许飞菲', '学号': 'P221014424', 'Github仓库地址': 'https://github.com/xffei/repos'}, {'姓名': '艾克丹', '学号': 'p221014452', 'Github仓库地址': 'https://github.com/akida2/AKIDA1'}, {'姓名': '张峰硕', '学号': 'P221014481', 'Github仓库地址': 'https://github.com/LitangGuailing/Litang.git'}, {'姓名': '罗青云', '学号': 'P221014479', 'Github仓库地址': 'https://github.com/laoma12/home'}, {'姓名': '余静怡', '学号': 'P221014461', 'Github仓库地址': 'https://github.com/yujingyi11/kitty'}, {'姓名': '罗朝婷', '学号': 'P221014430', 'Github仓库地址': 'https://github.com/zbnxhghg/zbnxhghg'}, {'姓名': '史竹然', '学号': 'P221014439', 'Github仓库地址': 'https://github.com/Lumen1015/Store-2023'}, {'姓名': '曾琳', '学号': 'P221014431', 'Github仓库地址': 'https://github.com/Lnyelnye/cautious-barnacle'}, {'姓名': '海雪', '学号': 'P221014419', 'Github仓库地址': 'https://github.com/shithiy/statistics-2023'}, {'姓名': '徐睿鲲', '学号': 'P221014520', 'Github仓库地址': 'https://github.com/huuggu/xuanxiu'}, {'姓名': '刘占森', '学号': 'P221014508', 'Github仓库地址': 'https://github.com/Anbnann/homework'}, {'姓名': '崔益广', '学号': 'P221014559', 'Github仓库地址': 'https://github.com/Anuibmlcu/cuizero'}, {'姓名': '吴娅蕾', '学号': 'P221014457', 'Github仓库地址': 'https://github.com/imAShiiiiiii/statistic-2023'}, {'姓名': '蓝苡榕', '学号': 'P221014511', 'Github仓库地址': 'https://github.com/lanyirongacyl/statistic'}]"
   ]
  },
  {
   "cell_type": "code",
   "execution_count": 49,
   "metadata": {},
   "outputs": [],
   "source": [
    "def 查找学生仓库地址(姓名,作业信息):\n",
    "  for i in 作业信息:\n",
    "   if i['姓名'] == 姓名:\n",
    "     return i ['Gibhub仓库地址']\n",
    "            \n"
   ]
  },
  {
   "cell_type": "code",
   "execution_count": 50,
   "metadata": {},
   "outputs": [],
   "source": [
    "def 查找学生仓库地址(姓名, 作业信息):  \n",
    "    for i in 作业信息:  \n",
    "        if i['姓名'] == 姓名:  \n",
    "            print(i.keys())\n",
    "            return i ['Github仓库地址']"
   ]
  },
  {
   "cell_type": "code",
   "execution_count": 51,
   "metadata": {},
   "outputs": [
    {
     "name": "stdout",
     "output_type": "stream",
     "text": [
      "dict_keys(['姓名', '学号', 'Github仓库地址'])\n"
     ]
    },
    {
     "data": {
      "text/plain": [
       "'https://github.com/mosongsheng/mm'"
      ]
     },
     "execution_count": 51,
     "metadata": {},
     "output_type": "execute_result"
    }
   ],
   "source": [
    "查找学生仓库地址('莫崧晟',第一次作业提交信息)"
   ]
  },
  {
   "cell_type": "code",
   "execution_count": 52,
   "metadata": {},
   "outputs": [
    {
     "name": "stdout",
     "output_type": "stream",
     "text": [
      "dict_keys(['姓名', '学号', 'Github仓库地址'])\n"
     ]
    },
    {
     "data": {
      "text/plain": [
       "'https://github.com/mosongsheng/mm'"
      ]
     },
     "execution_count": 52,
     "metadata": {},
     "output_type": "execute_result"
    }
   ],
   "source": [
    "查找学生仓库地址(姓名='莫崧晟',作业信息= 第一次作业提交信息)"
   ]
  },
  {
   "cell_type": "code",
   "execution_count": 53,
   "metadata": {},
   "outputs": [
    {
     "data": {
      "text/plain": [
       "int"
      ]
     },
     "execution_count": 53,
     "metadata": {},
     "output_type": "execute_result"
    }
   ],
   "source": [
    "type(123)"
   ]
  },
  {
   "cell_type": "code",
   "execution_count": 54,
   "metadata": {},
   "outputs": [
    {
     "name": "stdout",
     "output_type": "stream",
     "text": [
      "git config --global user.name 'mosongsheng'\n",
      "git config --global user.email '3115153743@qq.com'\n",
      "git config --global http.sslverify false\n",
      "git add .\n",
      "git commit -m 自动推送\n",
      "git push\n",
      "\n"
     ]
    }
   ],
   "source": [
    "# 异常处理案例\n",
    "\n",
    "\n",
    "try:\n",
    "    f = open(R'push.sh', 'r',encoding='UTF-8')\n",
    "    print(f.read())\n",
    "    f.close()\n",
    "except IOError:\n",
    "    print('file not found')"
   ]
  },
  {
   "cell_type": "markdown",
   "metadata": {},
   "source": []
  },
  {
   "cell_type": "code",
   "execution_count": 55,
   "metadata": {},
   "outputs": [],
   "source": [
    "# csv格式\n",
    "import pandas as pd"
   ]
  },
  {
   "cell_type": "code",
   "execution_count": 56,
   "metadata": {},
   "outputs": [
    {
     "data": {
      "text/html": [
       "<div>\n",
       "<style scoped>\n",
       "    .dataframe tbody tr th:only-of-type {\n",
       "        vertical-align: middle;\n",
       "    }\n",
       "\n",
       "    .dataframe tbody tr th {\n",
       "        vertical-align: top;\n",
       "    }\n",
       "\n",
       "    .dataframe thead th {\n",
       "        text-align: right;\n",
       "    }\n",
       "</style>\n",
       "<table border=\"1\" class=\"dataframe\">\n",
       "  <thead>\n",
       "    <tr style=\"text-align: right;\">\n",
       "      <th></th>\n",
       "      <th>姓名</th>\n",
       "      <th>学号</th>\n",
       "      <th>Github仓库地址</th>\n",
       "    </tr>\n",
       "  </thead>\n",
       "  <tbody>\n",
       "    <tr>\n",
       "      <th>0</th>\n",
       "      <td>许思勤</td>\n",
       "      <td>p221014505</td>\n",
       "      <td>https://github.com/qqliulian/liulianhao</td>\n",
       "    </tr>\n",
       "    <tr>\n",
       "      <th>1</th>\n",
       "      <td>高娴</td>\n",
       "      <td>P221014587</td>\n",
       "      <td>https://github.com/gx530381/gxx</td>\n",
       "    </tr>\n",
       "    <tr>\n",
       "      <th>2</th>\n",
       "      <td>周茂</td>\n",
       "      <td>P221014674</td>\n",
       "      <td>https://github.com/zzzzzmyou/1</td>\n",
       "    </tr>\n",
       "    <tr>\n",
       "      <th>3</th>\n",
       "      <td>古颜</td>\n",
       "      <td>P221014641</td>\n",
       "      <td>https://github.com/luohuazhanbaiyi/111</td>\n",
       "    </tr>\n",
       "    <tr>\n",
       "      <th>4</th>\n",
       "      <td>颜慈</td>\n",
       "      <td>P221014638</td>\n",
       "      <td>https://github.com/Yuxikkk/yyyc</td>\n",
       "    </tr>\n",
       "    <tr>\n",
       "      <th>...</th>\n",
       "      <td>...</td>\n",
       "      <td>...</td>\n",
       "      <td>...</td>\n",
       "    </tr>\n",
       "    <tr>\n",
       "      <th>86</th>\n",
       "      <td>徐睿鲲</td>\n",
       "      <td>P221014520</td>\n",
       "      <td>https://github.com/huuggu/xuanxiu</td>\n",
       "    </tr>\n",
       "    <tr>\n",
       "      <th>87</th>\n",
       "      <td>刘占森</td>\n",
       "      <td>P221014508</td>\n",
       "      <td>https://github.com/Anbnann/homework</td>\n",
       "    </tr>\n",
       "    <tr>\n",
       "      <th>88</th>\n",
       "      <td>崔益广</td>\n",
       "      <td>P221014559</td>\n",
       "      <td>https://github.com/Anuibmlcu/cuizero</td>\n",
       "    </tr>\n",
       "    <tr>\n",
       "      <th>89</th>\n",
       "      <td>吴娅蕾</td>\n",
       "      <td>P221014457</td>\n",
       "      <td>https://github.com/imAShiiiiiii/statistic-2023</td>\n",
       "    </tr>\n",
       "    <tr>\n",
       "      <th>90</th>\n",
       "      <td>蓝苡榕</td>\n",
       "      <td>P221014511</td>\n",
       "      <td>https://github.com/lanyirongacyl/statistic</td>\n",
       "    </tr>\n",
       "  </tbody>\n",
       "</table>\n",
       "<p>91 rows × 3 columns</p>\n",
       "</div>"
      ],
      "text/plain": [
       "     姓名          学号                                      Github仓库地址\n",
       "0   许思勤  p221014505         https://github.com/qqliulian/liulianhao\n",
       "1    高娴  P221014587                 https://github.com/gx530381/gxx\n",
       "2    周茂  P221014674                  https://github.com/zzzzzmyou/1\n",
       "3    古颜  P221014641          https://github.com/luohuazhanbaiyi/111\n",
       "4    颜慈  P221014638                 https://github.com/Yuxikkk/yyyc\n",
       "..  ...         ...                                             ...\n",
       "86  徐睿鲲  P221014520               https://github.com/huuggu/xuanxiu\n",
       "87  刘占森  P221014508             https://github.com/Anbnann/homework\n",
       "88  崔益广  P221014559            https://github.com/Anuibmlcu/cuizero\n",
       "89  吴娅蕾  P221014457  https://github.com/imAShiiiiiii/statistic-2023\n",
       "90  蓝苡榕  P221014511      https://github.com/lanyirongacyl/statistic\n",
       "\n",
       "[91 rows x 3 columns]"
      ]
     },
     "execution_count": 56,
     "metadata": {},
     "output_type": "execute_result"
    }
   ],
   "source": [
    "pd.read_csv(R'第一次作业提交统计.csv',encoding='GBK',usecols=列名列表)"
   ]
  },
  {
   "cell_type": "code",
   "execution_count": 57,
   "metadata": {},
   "outputs": [],
   "source": [
    "列名列表= ['姓名','学号','Github仓库地址']\n",
    "df1 = pd.read_csv(R'第一次作业提交统计.csv',encoding='GBK',usecols=列名列表)"
   ]
  },
  {
   "cell_type": "code",
   "execution_count": 58,
   "metadata": {},
   "outputs": [],
   "source": [
    "df1.to_csv('output/csv保存练习.csv',index = False)"
   ]
  },
  {
   "cell_type": "code",
   "execution_count": 59,
   "metadata": {},
   "outputs": [],
   "source": [
    "#任务2：xls格式数据的读写查询\n",
    "df2 = pd.read_excel(R'000_《统计与数据分析》课程第一次作业收集_提交统计.xlsx',\n",
    "sheet_name=\"提交清单\",usecols=['姓名','学号','Github仓库地址'])"
   ]
  },
  {
   "cell_type": "code",
   "execution_count": 60,
   "metadata": {},
   "outputs": [],
   "source": [
    "df2.to_excel(R'output/excel保存练习.xlsx',index = False)"
   ]
  },
  {
   "cell_type": "code",
   "execution_count": 61,
   "metadata": {},
   "outputs": [],
   "source": [
    "#任务2：sav格式数据的读写查询\n",
    "df3=pd.read_spss(R'identity.sav')"
   ]
  },
  {
   "cell_type": "code",
   "execution_count": 62,
   "metadata": {},
   "outputs": [],
   "source": [
    "import pyreadstat"
   ]
  },
  {
   "cell_type": "code",
   "execution_count": 63,
   "metadata": {},
   "outputs": [],
   "source": [
    "d=pyreadstat.read_sav(R'identity.sav',apply_value_formats= True)[0]"
   ]
  },
  {
   "cell_type": "code",
   "execution_count": null,
   "metadata": {},
   "outputs": [],
   "source": []
  }
 ],
 "metadata": {
  "kernelspec": {
   "display_name": "Python 3",
   "language": "python",
   "name": "python3"
  },
  "language_info": {
   "codemirror_mode": {
    "name": "ipython",
    "version": 3
   },
   "file_extension": ".py",
   "mimetype": "text/x-python",
   "name": "python",
   "nbconvert_exporter": "python",
   "pygments_lexer": "ipython3",
   "version": "3.8.10"
  },
  "orig_nbformat": 4
 },
 "nbformat": 4,
 "nbformat_minor": 2
}
