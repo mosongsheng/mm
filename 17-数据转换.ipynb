{
 "cells": [
  {
   "cell_type": "markdown",
   "metadata": {},
   "source": [
    "# 变量生成\n",
    "\n",
    "通常情况下，我们分析由调查问卷收集得到的数据时，需要将多个题项进行合并，生成某个变量在特定维度的值。合并题项的时候，一定要保证题项的方向是一致的。\n",
    "\n",
    "![变量的维度与题项](Snipaste_2023-12-14_11-49-51.png)\n",
    "\n",
    "![民法](https://gd-hbimg.huaban.com/45a54cf17ad7ca3fd59ff3062591e47dd17e02ff5ed94-xs48C0_fw658webp)"
   ]
  },
  {
   "cell_type": "markdown",
   "metadata": {},
   "source": [
    "import pandas as pd\n",
    "import mytools\n",
    "![](https://ts1.cn.mm.bing.net/th/id/R-C.3b9938e3ee66022f56e6802ab67adf90?rik=u84i4c8y68swhQ&riu=http%3a%2f%2fappimg.hicloud.com%2fhwmarket%2ffiles%2fapplication%2fscreenshut5%2f36456630de764fcb9d6148bd225d4415.jpg&ehk=NE4rwt0mB0QjlF2YsRw4%2bQt68QpxnDwHhRPonFdUDrA%3d&risl=&pid=ImgRaw&r=0)"
   ]
  },
  {
   "cell_type": "markdown",
   "metadata": {},
   "source": [
    "![](\"D:\\桌面\\28930942_164905110118_2.jpg\")"
   ]
  },
  {
   "cell_type": "code",
   "execution_count": 11,
   "metadata": {},
   "outputs": [
    {
     "data": {
      "text/plain": [
       "Index(['问卷编号', '调查员', '民族', '政治面貌', '年级', '您觉得自己是个典型的中国人吗',\n",
       "       '与世界其他国家的人相比中国人有自己的特点吗', '为公民，最基本的要求是爱自己的国家', '不管是汉族还是少数民族，都是中华民族的一员',\n",
       "       '您是否为为中华民族的历史文化而骄傲', '个人的前途与命运是与中华民族的命运息息相关', '您是否了解中华民族的传统节日',\n",
       "       '您是否了解中国历史、地理、政治等', '老实说，您觉得中国怎么样', '您认为中国有多少值得自豪的地方',\n",
       "       '您认为世界有多少比例的人尊重中国', '对您而言作为一名中国人有多重要', '会以中国人自豪吗', '会隐瞒身份吗', '会打多少分',\n",
       "       '国歌升起', '世博会', '中国传统文化', '发展信心', '你会为中国运动员呐喊助威', '遇到灾难时中国人应该伸出援手',\n",
       "       '你愿意加入其他国籍吗', '中国人要为祖国统一奋斗吗'],\n",
       "      dtype='object')"
      ]
     },
     "execution_count": 11,
     "metadata": {},
     "output_type": "execute_result"
    }
   ],
   "source": [
    "数据表 = mytools.读取SPSS数据文件('国家认同数据清理后.sav')\n",
    "数据表.columns"
   ]
  },
  {
   "cell_type": "code",
   "execution_count": 12,
   "metadata": {},
   "outputs": [
    {
     "data": {
      "text/plain": [
       "0      3\n",
       "1      0\n",
       "2      4\n",
       "3      3\n",
       "4      1\n",
       "      ..\n",
       "774    3\n",
       "775    4\n",
       "776    4\n",
       "777    4\n",
       "778    4\n",
       "Length: 779, dtype: int8"
      ]
     },
     "execution_count": 12,
     "metadata": {},
     "output_type": "execute_result"
    }
   ],
   "source": [
    "数据表.与世界其他国家的人相比中国人有自己的特点吗.cat.codes"
   ]
  },
  {
   "cell_type": "code",
   "execution_count": 1,
   "metadata": {},
   "outputs": [
    {
     "ename": "NameError",
     "evalue": "name '数据表' is not defined",
     "output_type": "error",
     "traceback": [
      "\u001b[1;31m---------------------------------------------------------------------------\u001b[0m",
      "\u001b[1;31mNameError\u001b[0m                                 Traceback (most recent call last)",
      "Cell \u001b[1;32mIn[1], line 1\u001b[0m\n\u001b[1;32m----> 1\u001b[0m 数据表[\u001b[38;5;124m'\u001b[39m\u001b[38;5;124m认知维度\u001b[39m\u001b[38;5;124m'\u001b[39m] \u001b[38;5;241m=\u001b[39m \u001b[43m数据表\u001b[49m[\u001b[38;5;124m'\u001b[39m\u001b[38;5;124m您觉得自己是个典型的中国人吗\u001b[39m\u001b[38;5;124m'\u001b[39m]\u001b[38;5;241m.\u001b[39mcat\u001b[38;5;241m.\u001b[39mcodes\u001b[38;5;241m+\u001b[39m数据表[\u001b[38;5;124m'\u001b[39m\u001b[38;5;124m与世界其他国家的人相比中国人有自己的特点吗\u001b[39m\u001b[38;5;124m'\u001b[39m]\u001b[38;5;241m.\u001b[39mcat\u001b[38;5;241m.\u001b[39mcodes \u001b[38;5;241m+\u001b[39m 数据表[\u001b[38;5;124m'\u001b[39m\u001b[38;5;124m为公民，最基本的要求是爱自己的国家\u001b[39m\u001b[38;5;124m'\u001b[39m]\u001b[38;5;241m.\u001b[39mcat\u001b[38;5;241m.\u001b[39mcodes\n",
      "\u001b[1;31mNameError\u001b[0m: name '数据表' is not defined"
     ]
    }
   ],
   "source": [
    "数据表['认知维度'] = 数据表['您觉得自己是个典型的中国人吗'].cat.codes+数据表['与世界其他国家的人相比中国人有自己的特点吗'].cat.codes + 数据表['为公民，最基本的要求是爱自己的国家'].cat.codes"
   ]
  },
  {
   "cell_type": "code",
   "execution_count": null,
   "metadata": {},
   "outputs": [],
   "source": []
  }
 ],
 "metadata": {
  "kernelspec": {
   "display_name": "Python 3",
   "language": "python",
   "name": "python3"
  },
  "language_info": {
   "codemirror_mode": {
    "name": "ipython",
    "version": 3
   },
   "file_extension": ".py",
   "mimetype": "text/x-python",
   "name": "python",
   "nbconvert_exporter": "python",
   "pygments_lexer": "ipython3",
   "version": "3.8.10"
  },
  "orig_nbformat": 4
 },
 "nbformat": 4,
 "nbformat_minor": 2
}
